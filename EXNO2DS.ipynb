{
  "cells": [
    {
      "cell_type": "code",
      "execution_count": null,
      "metadata": {
        "id": "eOTXkAVI1eZ4"
      },
      "outputs": [],
      "source": [
        "import pandas as pd\n",
        "import numpy as np\n",
        "import matplotlib.pyplot as plt\n",
        "import seaborn as sns"
      ]
    },
    {
      "cell_type": "code",
      "execution_count": null,
      "metadata": {
        "id": "JCbDXw2C1j3M"
      },
      "outputs": [],
      "source": [
        "dt=pd.read_csv(\"#COPY CSV FILE PATH\")"
      ]
    },
    {
      "cell_type": "code",
      "execution_count": null,
      "metadata": {
        "id": "yQfFCGzq1zXC"
      },
      "outputs": [],
      "source": [
        "dt"
      ]
    },
    {
      "cell_type": "code",
      "execution_count": null,
      "metadata": {
        "id": "4NYxJPlY12OG"
      },
      "outputs": [],
      "source": [
        "dt.info()"
      ]
    },
    {
      "cell_type": "code",
      "execution_count": null,
      "metadata": {
        "id": "cR3Z2fsc2F2j"
      },
      "outputs": [],
      "source": [
        "#DISPLAY NO OF ROWS AND COLUMNS\n",
        "print(\"\\nNumber of Rows and Columns:\")\n",
        "print(dt.shape)"
      ]
    },
    {
      "cell_type": "code",
      "execution_count": null,
      "metadata": {
        "id": "vEZk7ygG2LH3"
      },
      "outputs": [],
      "source": [
        "#SET PASSENGER ID AS INDEX COLUMN\n",
        "if 'PassengerId' in dt.columns:\n",
        "    dt.set_index('PassengerId', inplace=True)\n",
        "print(\"\\nDataset after setting PassengerId as index:\")\n",
        "print(dt.head())"
      ]
    },
    {
      "cell_type": "code",
      "execution_count": null,
      "metadata": {
        "id": "yvI3HDW_2WcH"
      },
      "outputs": [],
      "source": [
        "dt.describe()"
      ]
    },
    {
      "cell_type": "markdown",
      "metadata": {
        "id": "QlcHbH-D2orE"
      },
      "source": [
        "**CATEGORICAL DATA ANALYSIS**"
      ]
    },
    {
      "cell_type": "code",
      "execution_count": null,
      "metadata": {
        "id": "LETfTcJz2l3K"
      },
      "outputs": [],
      "source": [
        "# USE VALUE COUNT FUNCTION AND PERFROM CATEGORICAL ANALYSIS\n",
        "print(\"\\nValue Counts for 'Sex' column:\")\n",
        "if 'Sex' in dt.columns:\n",
        "    print(dt['Sex'].value_counts())\n",
        "\n",
        "print(\"\\nValue Counts for 'Embarked' column (if available):\")\n",
        "if 'Embarked' in dt.columns:\n",
        "    print(dt['Embarked'].value_counts())\n"
      ]
    },
    {
      "cell_type": "markdown",
      "metadata": {
        "id": "TK1JQd7g4A3c"
      },
      "source": [
        "**UNIVARIATE ANALYSIS**"
      ]
    },
    {
      "cell_type": "code",
      "execution_count": null,
      "metadata": {
        "id": "YXqbo4Uc4E5g"
      },
      "outputs": [],
      "source": [
        "# USE COUNTPLOT AND PERFORM UNIVARIATE ANALYSIS FOR THE \"SURVIVED\" COLUMN IN TITANIC DATASET\n",
        "if 'Survived' in dt.columns:\n",
        "    plt.figure(figsize=(6,4))\n",
        "    sns.countplot(x='Survived', data=dt)\n",
        "    plt.title(\"Univariate Analysis - Survived Count\")\n",
        "    plt.show()"
      ]
    },
    {
      "cell_type": "code",
      "execution_count": null,
      "metadata": {
        "id": "2b058O-AxT4S"
      },
      "outputs": [],
      "source": [
        "# IDENTIFY UNIQUE VALUES IN \"PASSENGER CLASS\" COLUMN\n",
        "if 'Pclass' in dt.columns:\n",
        "    print(\"\\nUnique values in Pclass column:\")\n",
        "    print(dt['Pclass'].unique())\n"
      ]
    },
    {
      "cell_type": "code",
      "execution_count": null,
      "metadata": {
        "id": "EJsWUDoQ7rxB"
      },
      "outputs": [],
      "source": [
        "# RENAMING COLUMN\n",
        "dt.rename(columns = {'Sex':'Gender'}, inplace = True)\n",
        "dt"
      ]
    },
    {
      "cell_type": "markdown",
      "metadata": {
        "id": "EQVPOWEdABmF"
      },
      "source": [
        "**BIVARIATE ANALYSIS**"
      ]
    },
    {
      "cell_type": "code",
      "execution_count": null,
      "metadata": {
        "id": "JAIncTl77wbF"
      },
      "outputs": [],
      "source": [
        "# USE CATPLOT METHOD FOR BIVARIATE ANALYSIS\n",
        "if {'Pclass', 'Survived'} <= set(dt.columns):\n",
        "    sns.catplot(x='Pclass', hue='Survived', kind='count', data=dt, height=5, aspect=1.2)\n",
        "    plt.title(\"Bivariate Analysis - Survival by Passenger Class\")\n",
        "    plt.show()"
      ]
    },
    {
      "cell_type": "code",
      "execution_count": null,
      "metadata": {
        "id": "tJl7eKDm9LYA"
      },
      "outputs": [],
      "source": [
        "fig, ax1 = plt.subplots(figsize=(8,5))\n",
        "graph = sns.countplot(#USE THE NECESSARY PARAMETERS HERE)\n",
        "graph.set_xticklabels(graph.get_xticklabels())\n",
        "for p in graph.patches:\n",
        "    height = p.get_height()\n",
        "    graph.text(p.get_x()+p.get_width()/2, height + 20.8,height ,ha=\"left\")"
      ]
    },
    {
      "cell_type": "code",
      "execution_count": null,
      "metadata": {
        "id": "WqiwcT0S9W4T"
      },
      "outputs": [],
      "source": [
        "# USE BOXPLOT METHOD TO ANALYZE AGE AND SURVIVED COLUMN\n",
        "if {'Age', 'Survived'} <= set(dt.columns):\n",
        "    plt.figure(figsize=(8,5))\n",
        "    sns.boxplot(x='Survived', y='Age', data=dt)\n",
        "    plt.title(\"Bivariate Analysis - Age vs Survived\")\n",
        "    plt.show()\n"
      ]
    },
    {
      "cell_type": "markdown",
      "metadata": {
        "id": "_jQ_kR9V-954"
      },
      "source": [
        "**MULTIVARIATE ANALYSIS**"
      ]
    },
    {
      "cell_type": "code",
      "execution_count": null,
      "metadata": {
        "id": "P7CnWj-49gFk"
      },
      "outputs": [],
      "source": [
        "# USE BOXPLOT METHOD AND ANALYZE THREE COLUMNS(PCLASS,AGE,GENDER)\n",
        "if {'Pclass', 'Age', 'Gender'} <= set(dt.columns):\n",
        "    plt.figure(figsize=(8,5))\n",
        "    sns.boxplot(x='Pclass', y='Age', hue='Gender', data=dt)\n",
        "    plt.title(\"Multivariate Analysis - Age vs Pclass and Gender\")\n",
        "    plt.show()"
      ]
    },
    {
      "cell_type": "code",
      "execution_count": null,
      "metadata": {
        "id": "_DBtS2EJ_YgO"
      },
      "outputs": [],
      "source": [
        "# USE CATPLOT METHOD AND ANALYZE THREE COLUMNS(PCLASS,SURVIVED,GENDER)\n",
        "if {'Pclass', 'Survived', 'Gender'} <= set(dt.columns):\n",
        "    sns.catplot(x='Pclass', hue='Gender', col='Survived', kind='count', data=dt, height=5, aspect=1)\n",
        "    plt.subplots_adjust(top=0.85)\n",
        "    plt.suptitle(\"Multivariate Analysis - Pclass, Survived, Gender\")\n",
        "    plt.show()"
      ]
    },
    {
      "cell_type": "code",
      "execution_count": null,
      "metadata": {
        "id": "72863pNc_jqs"
      },
      "outputs": [],
      "source": [
        "# IMPLEMENT HEATMAP AND PAIRPLOT FOR THE DATASET\n",
        "plt.figure(figsize=(10,6))\n",
        "sns.heatmap(dt.corr(numeric_only=True), annot=True, cmap='coolwarm')\n",
        "plt.title(\"Correlation Heatmap\")\n",
        "plt.show()\n",
        "\n",
        "sns.pairplot(dt, hue='Survived', diag_kind='kde')\n",
        "plt.show()\n"
      ]
    }
  ],
  "metadata": {
    "colab": {
      "provenance": []
    },
    "kernelspec": {
      "display_name": "Python 3",
      "name": "python3"
    },
    "language_info": {
      "name": "python"
    }
  },
  "nbformat": 4,
  "nbformat_minor": 0
}
