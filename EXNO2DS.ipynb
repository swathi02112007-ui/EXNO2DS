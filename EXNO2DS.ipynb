{
  "cells": [
    {
      "cell_type": "code",
      "execution_count": null,
      "metadata": {
        "id": "eOTXkAVI1eZ4"
      },
      "outputs": [],
      "source": [
        "import pandas as pd\n",
        "import numpy as np\n",
        "import matplotlib.pyplot as plt\n",
        "import seaborn as sns"
      ]
    },
    {
      "cell_type": "code",
      "execution_count": null,
      "metadata": {
        "id": "JCbDXw2C1j3M"
      },
      "outputs": [],
      "source": [
        "dt=pd.read_csv(\"#COPY CSV FILE PATH\")"
      ]
    },
    {
      "cell_type": "code",
      "execution_count": null,
      "metadata": {
        "id": "yQfFCGzq1zXC"
      },
      "outputs": [],
      "source": [
        "dt"
      ]
    },
    {
      "cell_type": "code",
      "execution_count": null,
      "metadata": {
        "id": "4NYxJPlY12OG"
      },
      "outputs": [],
      "source": [
        "dt.info()"
      ]
    },
    {
      "cell_type": "code",
      "execution_count": null,
      "metadata": {
        "id": "cR3Z2fsc2F2j"
      },
      "outputs": [],
      "source": [
        "#DISPLAY NO OF ROWS AND COLUMNS\n"
      ]
    },
    {
      "cell_type": "code",
      "execution_count": null,
      "metadata": {
        "id": "vEZk7ygG2LH3"
      },
      "outputs": [],
      "source": [
        "#SET PASSENGER ID AS INDEX COLUMN\n"
      ]
    },
    {
      "cell_type": "code",
      "execution_count": null,
      "metadata": {
        "id": "yvI3HDW_2WcH"
      },
      "outputs": [],
      "source": [
        "dt.describe()"
      ]
    },
    {
      "cell_type": "markdown",
      "metadata": {
        "id": "QlcHbH-D2orE"
      },
      "source": [
        "**CATEGORICAL DATA ANALYSIS**"
      ]
    },
    {
      "cell_type": "code",
      "execution_count": null,
      "metadata": {
        "id": "LETfTcJz2l3K"
      },
      "outputs": [],
      "source": [
        "# USE VALUE COUNT FUNCTION AND PERFROM CATEGORICAL ANALYSIS\n"
      ]
    },
    {
      "cell_type": "markdown",
      "metadata": {
        "id": "TK1JQd7g4A3c"
      },
      "source": [
        "**UNIVARIATE ANALYSIS**"
      ]
    },
    {
      "cell_type": "code",
      "execution_count": null,
      "metadata": {
        "id": "YXqbo4Uc4E5g"
      },
      "outputs": [],
      "source": [
        "# USE COUNTPLOT AND PERFORM UNIVARIATE ANALYSIS FOR THE \"SURVIVED\" COLUMN IN TITANIC DATASET\n"
      ]
    },
    {
      "cell_type": "code",
      "execution_count": null,
      "metadata": {
        "id": "2b058O-AxT4S"
      },
      "outputs": [],
      "source": [
        "# IDENTIFY UNIQUE VALUES IN \"PASSENGER CLASS\" COLUMN\n"
      ]
    },
    {
      "cell_type": "code",
      "execution_count": null,
      "metadata": {
        "id": "EJsWUDoQ7rxB"
      },
      "outputs": [],
      "source": [
        "# RENAMING COLUMN\n"
      ]
    },
    {
      "cell_type": "markdown",
      "metadata": {
        "id": "EQVPOWEdABmF"
      },
      "source": [
        "**BIVARIATE ANALYSIS**"
      ]
    },
    {
      "cell_type": "code",
      "execution_count": null,
      "metadata": {
        "id": "JAIncTl77wbF"
      },
      "outputs": [],
      "source": [
        "# USE CATPLOT METHOD FOR BIVARIATE ANALYSIS\n"
      ]
    },
    {
      "cell_type": "code",
      "execution_count": null,
      "metadata": {
        "id": "tJl7eKDm9LYA"
      },
      "outputs": [],
      "source": [
        "fig, ax1 = plt.subplots(figsize=(8,5))\n",
        "graph = sns.countplot #(USE THE NECESSARY PARAMETERS HERE)\n",
        "graph.set_xticklabels(graph.get_xticklabels())\n",
        "for p in graph.patches:\n",
        "    height = p.get_height()\n",
        "    graph.text(p.get_x()+p.get_width()/2, height + 20.8,height ,ha=\"left\")"
      ]
    },
    {
      "cell_type": "code",
      "execution_count": null,
      "metadata": {
        "id": "WqiwcT0S9W4T"
      },
      "outputs": [],
      "source": [
        "# USE BOXPLOT METHOD TO ANALYZE AGE AND SURVIVED COLUMN\n"
      ]
    },
    {
      "cell_type": "markdown",
      "metadata": {
        "id": "_jQ_kR9V-954"
      },
      "source": [
        "**MULTIVARIATE ANALYSIS**"
      ]
    },
    {
      "cell_type": "code",
      "execution_count": null,
      "metadata": {
        "id": "P7CnWj-49gFk"
      },
      "outputs": [],
      "source": [
        "# USE BOXPLOT METHOD AND ANALYZE THREE COLUMNS(PCLASS,AGE,GENDER)\n"
      ]
    },
    {
      "cell_type": "code",
      "execution_count": null,
      "metadata": {
        "id": "_DBtS2EJ_YgO"
      },
      "outputs": [],
      "source": [
        "# USE CATPLOT METHOD AND ANALYZE THREE COLUMNS(PCLASS,SURVIVED,GENDER)\n"
      ]
    },
    {
      "cell_type": "code",
      "execution_count": null,
      "metadata": {
        "id": "72863pNc_jqs"
      },
      "outputs": [],
      "source": [
        "# IMPLEMENT HEATMAP AND PAIRPLOT FOR THE DATASET\n"
      ]
    }
  ],
  "metadata": {
    "colab": {
      "provenance": []
    },
    "kernelspec": {
      "display_name": "Python 3",
      "name": "python3"
    },
    "language_info": {
      "name": "python"
    }
  },
  "nbformat": 4,
  "nbformat_minor": 0
}
